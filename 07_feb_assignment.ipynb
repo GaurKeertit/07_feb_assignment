{
 "cells": [
  {
   "cell_type": "markdown",
   "id": "d014956f-3157-49aa-bc6f-c7589e6c5bb4",
   "metadata": {},
   "source": [
    "Q1. You are writing code for a company. The requirement of the company is that you create a python\n",
    "function that will check whether the password entered by the user is correct or not. The function should\n",
    "take the password as input and return the string “Valid Password” if the entered password follows the\n",
    "below-given password guidelines else it should return “Invalid Password”."
   ]
  },
  {
   "cell_type": "code",
   "execution_count": 19,
   "id": "71256f88-a2de-4448-a294-9ec90f9dd7d4",
   "metadata": {},
   "outputs": [],
   "source": [
    "def pas(string):\n",
    "    a,b,c,d=0,0,0,0\n",
    "    if len(string)>=10:\n",
    "        for i in string:\n",
    "            if i.islower():\n",
    "                a+=1\n",
    "            elif i.isupper():\n",
    "                b+=1\n",
    "            elif i.isdigit():\n",
    "                c+=1\n",
    "            elif i=='@' or i=='$' or i=='_' or i=='#':\n",
    "                d+=1\n",
    "    if (a>=2 and b>=2 and c>=1 and d>=3):\n",
    "        print(\"“Valid Password”\")\n",
    "    else:\n",
    "        print(\"Invalid Password\")\n",
    "   \n",
    "   \n",
    "\n",
    "\n",
    "   \n",
    "            \n",
    "            \n"
   ]
  },
  {
   "cell_type": "code",
   "execution_count": 22,
   "id": "6cbf7ecc-6645-4907-b26e-c1b18798565b",
   "metadata": {},
   "outputs": [
    {
     "name": "stdin",
     "output_type": "stream",
     "text": [
      "enter your password Keertit123@#@Gaur\n"
     ]
    },
    {
     "name": "stdout",
     "output_type": "stream",
     "text": [
      "“Valid Password”\n"
     ]
    }
   ],
   "source": [
    "l=input(\"enter your password\")\n",
    "pas(l)"
   ]
  },
  {
   "cell_type": "code",
   "execution_count": null,
   "id": "62701dbb-8d9c-4e42-8fb4-303a5c5a00e9",
   "metadata": {},
   "outputs": [],
   "source": []
  },
  {
   "cell_type": "markdown",
   "id": "4a0a4b24-d08f-4f69-8985-bf82928d1afb",
   "metadata": {},
   "source": [
    "Q2. Solve the below-given questions using at least one of the following:\n",
    "    "
   ]
  },
  {
   "cell_type": "markdown",
   "id": "5e55ac9b-3bbb-4abb-bed1-41ad58205430",
   "metadata": {},
   "source": [
    "### Check if the string starts with a particular letter"
   ]
  },
  {
   "cell_type": "code",
   "execution_count": 40,
   "id": "381b7088-9c9b-48ae-8491-5fe8cf1d3831",
   "metadata": {},
   "outputs": [
    {
     "name": "stdin",
     "output_type": "stream",
     "text": [
      "enter the string  my buddy\n"
     ]
    },
    {
     "name": "stdout",
     "output_type": "stream",
     "text": [
      "True\n"
     ]
    }
   ],
   "source": [
    "string=input(\"enter the string \")\n",
    "s=string.lower()\n",
    "starts_with=lambda x:True if s.startswith('my') else False\n",
    "print(starts_with(s))"
   ]
  },
  {
   "cell_type": "markdown",
   "id": "bd6d3644-1ca1-4910-8453-ca9ecbe0f003",
   "metadata": {},
   "source": [
    "### Check if the string is numeric"
   ]
  },
  {
   "cell_type": "code",
   "execution_count": 45,
   "id": "1f0613ba-fc39-41f3-81e1-b0b0c422b337",
   "metadata": {},
   "outputs": [
    {
     "name": "stdin",
     "output_type": "stream",
     "text": [
      "enter the string  ajkshdi\n"
     ]
    },
    {
     "name": "stdout",
     "output_type": "stream",
     "text": [
      "False\n"
     ]
    }
   ],
   "source": [
    "string=input(\"enter the string \")\n",
    "s=string.lower()\n",
    "starts_with=lambda x:True if s.isdigit() else False\n",
    "print(starts_with(s))"
   ]
  },
  {
   "cell_type": "markdown",
   "id": "69e64624-ee3e-4998-a6ac-d22bf544a477",
   "metadata": {},
   "source": [
    "### Find the squares of numbers from 1 to 10"
   ]
  },
  {
   "cell_type": "code",
   "execution_count": 74,
   "id": "a25c5e1f-465f-4a64-a9bb-3e33f6e83109",
   "metadata": {},
   "outputs": [
    {
     "name": "stdout",
     "output_type": "stream",
     "text": [
      "[1, 4, 9, 16, 25, 36, 49, 64, 81, 100]\n"
     ]
    }
   ],
   "source": [
    "list2=[i*i for i in range(1,11) ] # list comprehension\n",
    "print(list2)"
   ]
  },
  {
   "cell_type": "markdown",
   "id": "8e0dc637-936f-4a28-9954-2fd35ae650e6",
   "metadata": {},
   "source": [
    "### Find the cube root of numbers from 1 to 10"
   ]
  },
  {
   "cell_type": "code",
   "execution_count": 70,
   "id": "582ee971-016a-4299-8262-c57ac1afa430",
   "metadata": {},
   "outputs": [
    {
     "name": "stdout",
     "output_type": "stream",
     "text": [
      "[1, 8, 27, 64, 125, 216, 343, 512, 729, 1000]\n"
     ]
    }
   ],
   "source": [
    "l=[1, 2, 3, 4, 5, 6, 7, 8, 9, 10]   # lambda function / map function\n",
    "\n",
    "square=lambda x:x**3\n",
    "print(list(map(square,l)))\n"
   ]
  },
  {
   "cell_type": "markdown",
   "id": "3cf33b4d-2ef6-49b1-b82d-b7849fb026c6",
   "metadata": {},
   "source": [
    "\n",
    "### Sort a list of tuples having fruit names and their quantity. [(\"mango\",99),(\"orange\",80), (\"grapes\", 1000)-"
   ]
  },
  {
   "cell_type": "code",
   "execution_count": 61,
   "id": "eaeb594b-9df2-4db1-ac9f-e9ae7ae7af29",
   "metadata": {},
   "outputs": [
    {
     "name": "stdout",
     "output_type": "stream",
     "text": [
      "[('grapes', 1000), ('mango', 99), ('orange', 80)]\n"
     ]
    }
   ],
   "source": [
    "t=[(\"mango\",99),(\"orange\",80), (\"grapes\", 1000)]\n",
    "sort_list=lambda x:sorted(t)\n",
    "print(sort_list(t))\n",
    "        "
   ]
  },
  {
   "cell_type": "markdown",
   "id": "a005aa34-97e9-4e31-bf43-d8a30f3c418f",
   "metadata": {},
   "source": [
    "### Check if a given number is even"
   ]
  },
  {
   "cell_type": "code",
   "execution_count": 65,
   "id": "1a9f670d-1081-4d76-8148-13c1fa5e09bd",
   "metadata": {},
   "outputs": [
    {
     "name": "stdin",
     "output_type": "stream",
     "text": [
      "enter the number  457\n"
     ]
    },
    {
     "name": "stdout",
     "output_type": "stream",
     "text": [
      "NO\n"
     ]
    }
   ],
   "source": [
    "n=int(input(\"enter the number \"))\n",
    "fun=lambda x:\"EVEN NUMBER \" if x%2==0 else \"NOT AN EVEN NUMBER \"\n",
    "print(fun(n))"
   ]
  },
  {
   "cell_type": "markdown",
   "id": "c1e3ee9a-41ea-4e99-b18b-a0858a73baa4",
   "metadata": {},
   "source": [
    "### Filter odd numbers from the given list.\n",
    "[1,2,3,4,5,6,7,8,9,10]"
   ]
  },
  {
   "cell_type": "code",
   "execution_count": 68,
   "id": "f6992345-364c-4baf-ae91-6aef15cf7bb0",
   "metadata": {},
   "outputs": [
    {
     "data": {
      "text/plain": [
       "[1, 3, 5, 7, 9]"
      ]
     },
     "execution_count": 68,
     "metadata": {},
     "output_type": "execute_result"
    }
   ],
   "source": [
    "l=[1,2,3,4,5,6,7,8,9,10]\n",
    "odd=lambda X:X%2!=0\n",
    "list(filter(odd,l))"
   ]
  },
  {
   "cell_type": "markdown",
   "id": "0e81b031-62d0-49de-af7a-381d6b0337f6",
   "metadata": {},
   "source": [
    "### Sort a list of integers into positive and negative integers lists.\n",
    "[1,2,3,4,5,6,-1,-2,-3,-4,-5,0]"
   ]
  },
  {
   "cell_type": "code",
   "execution_count": 102,
   "id": "91595c48-fc51-41a7-a1c7-190d42525e94",
   "metadata": {},
   "outputs": [
    {
     "name": "stdout",
     "output_type": "stream",
     "text": [
      "positive list  [1, 2, 3, 4, 5, 6]\n",
      "negative list  [-1, -2, -3, -4, -5, 0]\n"
     ]
    }
   ],
   "source": [
    "l1=[1,2,3,4,5,6,-1,-2,-3,-4,-5,0]\n",
    "negative=[]\n",
    "positive=[]\n",
    "positive=list(filter(lambda x: x>0, l1))\n",
    "negative=list(filter(lambda x: x<=0, l1))\n",
    "print(\"positive list \", positive)\n",
    "print(\"negative list \", negative)"
   ]
  },
  {
   "cell_type": "code",
   "execution_count": 89,
   "id": "57182b69-9706-4288-9221-38331314811f",
   "metadata": {},
   "outputs": [
    {
     "name": "stdout",
     "output_type": "stream",
     "text": [
      "[]\n"
     ]
    }
   ],
   "source": []
  },
  {
   "cell_type": "code",
   "execution_count": null,
   "id": "e0682676-a61d-4c2f-a74b-629f9a034257",
   "metadata": {},
   "outputs": [],
   "source": []
  }
 ],
 "metadata": {
  "kernelspec": {
   "display_name": "Python 3 (ipykernel)",
   "language": "python",
   "name": "python3"
  },
  "language_info": {
   "codemirror_mode": {
    "name": "ipython",
    "version": 3
   },
   "file_extension": ".py",
   "mimetype": "text/x-python",
   "name": "python",
   "nbconvert_exporter": "python",
   "pygments_lexer": "ipython3",
   "version": "3.10.8"
  }
 },
 "nbformat": 4,
 "nbformat_minor": 5
}
